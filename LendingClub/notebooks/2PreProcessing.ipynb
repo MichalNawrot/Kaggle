{
 "cells": [
  {
   "cell_type": "markdown",
   "metadata": {},
   "source": [
    "# Predictive task description"
   ]
  },
  {
   "cell_type": "markdown",
   "metadata": {},
   "source": [
    "Here are the steps:\n",
    "\n",
    " \n",
    "\n",
    "    1. Prepare predictive model(s) of default. Default client is defined as one with loan_status variable taking on the following levels:\n",
    "    Charged off\n",
    "    Default\n",
    "    Does not meet the credit policy. Status: Charged Off\n",
    "    Late (31-120 days)\n",
    "\n",
    "    2. Present a few competing predictive models and select one of them. Explain criteria for the selection.\n",
    "    \n",
    "    3. Calculate performance metrics you find important in this specific context, but also provide necessarily ROC graphs and AUC for comparison purposes. Metrics should be based on testing set, which should consist 30% randomly selected clients from the original dataset.\n",
    "    \n",
    "    4. If necessary, make appropriate variables' pre-processing.\n",
    "    \n",
    "    5. Send us a programming code with comments and the report/presentation of main results.\n",
    "\n",
    " \n",
    "\n",
    "We hope you will enjoy solving the task! Good luck!"
   ]
  },
  {
   "cell_type": "markdown",
   "metadata": {},
   "source": [
    "# PreProcessing, cleaning, feature generating"
   ]
  },
  {
   "cell_type": "code",
   "execution_count": 1,
   "metadata": {
    "collapsed": true
   },
   "outputs": [],
   "source": [
    "import os\n",
    "import pandas as pd\n",
    "import numpy as np\n",
    "import matplotlib.pyplot as plt"
   ]
  },
  {
   "cell_type": "code",
   "execution_count": 2,
   "metadata": {
    "collapsed": true
   },
   "outputs": [],
   "source": [
    "pd.set_option('display.max_columns', 0)\n",
    "pd.set_option('display.max_rows', 500)"
   ]
  },
  {
   "cell_type": "code",
   "execution_count": 3,
   "metadata": {
    "collapsed": true
   },
   "outputs": [],
   "source": [
    "# file paths\n",
    "raw_data_path = os.path.join(os.path.pardir,'data','raw')\n",
    "loan_data_path = os.path.join(raw_data_path, 'loan.csv')"
   ]
  },
  {
   "cell_type": "code",
   "execution_count": 4,
   "metadata": {
    "collapsed": true
   },
   "outputs": [],
   "source": [
    "dateColumns = ['issue_d', 'earliest_cr_line','next_pymnt_d','last_pymnt_d', 'last_credit_pull_d']"
   ]
  },
  {
   "cell_type": "code",
   "execution_count": 5,
   "metadata": {
    "collapsed": true
   },
   "outputs": [],
   "source": [
    "df = pd.read_csv(loan_data_path, low_memory=False, parse_dates=dateColumns, infer_datetime_format=True)"
   ]
  },
  {
   "cell_type": "code",
   "execution_count": 6,
   "metadata": {},
   "outputs": [
    {
     "data": {
      "text/plain": [
       "(26621, 74)"
      ]
     },
     "execution_count": 6,
     "metadata": {},
     "output_type": "execute_result"
    }
   ],
   "source": [
    "df.shape"
   ]
  },
  {
   "cell_type": "code",
   "execution_count": 7,
   "metadata": {
    "collapsed": true
   },
   "outputs": [],
   "source": [
    "Default = ['Charged Off','Default','Does not meet the credit policy. Status:Charged Off','Late (31-120 days)']\n",
    "df['Default'] = 0\n",
    "df.loc[df['loan_status'].isin(Default), 'Default'] = 1"
   ]
  },
  {
   "cell_type": "code",
   "execution_count": 8,
   "metadata": {
    "collapsed": true
   },
   "outputs": [],
   "source": [
    "Active = ['Current','Late (16-30 days)','Issued','In Grace Period']\n",
    "Paid = ['Fully Paid','Does not meet the credit policy. Status:Fully Paid']\n",
    "Default = ['Charged Off','Default','Does not meet the credit policy. Status:Charged Off','Late (31-120 days)']\n",
    "df['loan_status_type'] = 0\n",
    "df.loc[df['loan_status'].isin(Active), 'loan_status_type'] = 'active'\n",
    "df.loc[df['loan_status'].isin(Paid), 'loan_status_type'] = 'paid'\n",
    "df.loc[df['loan_status'].isin(Default), 'loan_status_type'] = 'default'"
   ]
  },
  {
   "cell_type": "code",
   "execution_count": 9,
   "metadata": {
    "collapsed": true
   },
   "outputs": [],
   "source": [
    "df['issue_year']=df['issue_d'].dt.year\n",
    "df['issue_month']=df['issue_d'].dt.month"
   ]
  },
  {
   "cell_type": "markdown",
   "metadata": {},
   "source": [
    "# ====================================\n",
    "    which one to drop?"
   ]
  },
  {
   "cell_type": "markdown",
   "metadata": {},
   "source": [
    "drop with many NuLLs"
   ]
  },
  {
   "cell_type": "code",
   "execution_count": 10,
   "metadata": {
    "collapsed": true
   },
   "outputs": [],
   "source": [
    "dropNull = df.isnull().sum().sort_values(ascending=False)/len(df)\n",
    "columns_to_drop = list(dropNull[dropNull>0.5].index)\n",
    "df.drop(columns_to_drop, axis=1, inplace=True)"
   ]
  },
  {
   "cell_type": "markdown",
   "metadata": {},
   "source": [
    "drop with small information and text descriptions"
   ]
  },
  {
   "cell_type": "code",
   "execution_count": 11,
   "metadata": {
    "collapsed": true
   },
   "outputs": [],
   "source": [
    "columns_to_drop=[]\n",
    "columns_to_drop=['policy_code','pymnt_plan','url','member_id','application_type','acc_now_delinq','emp_title','zip_code','title']\n",
    "df.drop(columns_to_drop, axis=1, inplace=True)"
   ]
  },
  {
   "cell_type": "code",
   "execution_count": 12,
   "metadata": {},
   "outputs": [
    {
     "data": {
      "text/plain": [
       "(26621, 48)"
      ]
     },
     "execution_count": 12,
     "metadata": {},
     "output_type": "execute_result"
    }
   ],
   "source": [
    "df.shape"
   ]
  },
  {
   "cell_type": "markdown",
   "metadata": {},
   "source": [
    "# ===================================="
   ]
  },
  {
   "cell_type": "markdown",
   "metadata": {},
   "source": [
    "Transforming objects to int"
   ]
  },
  {
   "cell_type": "code",
   "execution_count": 13,
   "metadata": {
    "collapsed": true
   },
   "outputs": [],
   "source": [
    "df['term']=df['term'].str[1:3].astype(int)"
   ]
  },
  {
   "cell_type": "code",
   "execution_count": 14,
   "metadata": {
    "collapsed": true
   },
   "outputs": [],
   "source": [
    "dict_emp_length = {'10+ years':10, '2 years':2, '< 1 year':0, '3 years':3, '1 year':1, '5 years':5,\n",
    "       '4 years':4, 'n/a':0, '7 years':7, '8 years':8, '6 years':6, '9 years':9}\n",
    "df[\"emp_length\"].replace(dict_emp_length, inplace=True)"
   ]
  },
  {
   "cell_type": "code",
   "execution_count": 15,
   "metadata": {
    "collapsed": true
   },
   "outputs": [],
   "source": [
    "dict_status_type = {'active':1, 'paid':2, 'default':0}\n",
    "df[\"loan_status_type\"].replace(dict_status_type, inplace=True)"
   ]
  },
  {
   "cell_type": "code",
   "execution_count": 16,
   "metadata": {
    "collapsed": true
   },
   "outputs": [],
   "source": [
    "dict_grade = {'A':1, 'B':2, 'C':3, 'D':4, 'E':5, 'F':6, 'G':7}\n",
    "df[\"grade\"].replace(dict_grade, inplace=True)"
   ]
  },
  {
   "cell_type": "code",
   "execution_count": 17,
   "metadata": {
    "collapsed": true
   },
   "outputs": [],
   "source": [
    "dict_home_ownership = {'MORTGAGE':2, 'RENT':1, 'OWN':3, 'OTHER':0, 'NONE':0, 'ANY':0}\n",
    "df[\"home_ownership\"].replace(dict_home_ownership, inplace=True)"
   ]
  },
  {
   "cell_type": "code",
   "execution_count": 18,
   "metadata": {
    "collapsed": true
   },
   "outputs": [],
   "source": [
    "dict_initial_list_status = {'f':0, 'w':1}\n",
    "df[\"initial_list_status\"].replace(dict_initial_list_status, inplace=True)"
   ]
  },
  {
   "cell_type": "code",
   "execution_count": 19,
   "metadata": {
    "collapsed": true
   },
   "outputs": [],
   "source": [
    "dict_verification_status = {'Source Verified':1, 'Verified':2, 'Not Verified':0}\n",
    "df[\"verification_status\"].replace(dict_verification_status, inplace=True)"
   ]
  },
  {
   "cell_type": "code",
   "execution_count": 20,
   "metadata": {
    "collapsed": true
   },
   "outputs": [],
   "source": [
    "dict_purpose = {'car':1, 'credit_card':2, 'debt_consolidation':3, 'educational':4,\n",
    "       'home_improvement':5, 'house':6, 'major_purchase':7, 'medical':8, 'moving':9,\n",
    "       'other':0, 'renewable_energy':10, 'small_business':11, 'vacation':12, 'wedding':13}\n",
    "df[\"purpose\"].replace(dict_purpose, inplace=True)"
   ]
  },
  {
   "cell_type": "code",
   "execution_count": 21,
   "metadata": {
    "collapsed": true
   },
   "outputs": [],
   "source": [
    "dict_sub_grade = {'A1':11, 'A2':12, 'A3':13, 'A4':14, 'A5':15, 'B1':21, 'B2':22, 'B3':23, 'B4':24, 'B5':25, 'C1':31, 'C2':32,'C3':33, 'C4':34, 'C5':35, 'D1':41, 'D2':42, 'D3':43, 'D4':44, 'D5':45, 'E1':51, 'E2':52, 'E3':53, 'E4':54, 'E5':55, 'F1':61, 'F2':62, 'F3':63, 'F4':64, 'F5':65, 'G1':71, 'G2':72, 'G3':73, 'G4':74, 'G5':75}\n",
    "df[\"sub_grade\"].replace(dict_sub_grade, inplace=True)"
   ]
  },
  {
   "cell_type": "code",
   "execution_count": 22,
   "metadata": {
    "collapsed": true
   },
   "outputs": [],
   "source": [
    "state_default = pd.DataFrame(df.loc[df['Default']==1,'addr_state'].value_counts()).reset_index()\n",
    "state_default.columns = ['addr_state', 'noDefault']\n",
    "state = pd.DataFrame(df['addr_state'].value_counts()).reset_index()\n",
    "state.columns = ['addr_state', 'no']\n",
    "state_pct = pd.merge(state, state_default, on='addr_state', how='left')\n",
    "state_pct['state_pct_default']=state_pct['noDefault']/state_pct['no']\n",
    "state_pct.fillna(0,inplace=True)\n",
    "state_pct.drop(['no','noDefault'],axis=1,inplace=True)\n",
    "df = pd.merge(df, state_pct, on='addr_state', how='left')"
   ]
  },
  {
   "cell_type": "markdown",
   "metadata": {},
   "source": [
    "There are 17586 records which don't have any payment --> last_pymnt_d = issue_d"
   ]
  },
  {
   "cell_type": "code",
   "execution_count": 23,
   "metadata": {
    "collapsed": true
   },
   "outputs": [],
   "source": [
    "df.loc[df['last_pymnt_d'].isnull(),'last_pymnt_d'] = df['issue_d']"
   ]
  },
  {
   "cell_type": "code",
   "execution_count": 24,
   "metadata": {
    "collapsed": true
   },
   "outputs": [],
   "source": [
    "td = df['last_pymnt_d']-df['issue_d']\n",
    "df['time_pct_paid']=td.dt.days/(df['term']*365.25/12)"
   ]
  },
  {
   "cell_type": "code",
   "execution_count": 25,
   "metadata": {},
   "outputs": [
    {
     "data": {
      "text/plain": [
       "(26621, 50)"
      ]
     },
     "execution_count": 25,
     "metadata": {},
     "output_type": "execute_result"
    }
   ],
   "source": [
    "df.shape"
   ]
  },
  {
   "cell_type": "markdown",
   "metadata": {},
   "source": [
    "There are 29 records which don't have credit line --> earliest_cr_line = issue_d"
   ]
  },
  {
   "cell_type": "code",
   "execution_count": 26,
   "metadata": {
    "collapsed": true
   },
   "outputs": [],
   "source": [
    "df.loc[df['earliest_cr_line'].isnull(),'earliest_cr_line'] = df['issue_d']"
   ]
  },
  {
   "cell_type": "code",
   "execution_count": 27,
   "metadata": {
    "collapsed": true
   },
   "outputs": [],
   "source": [
    "td = df['issue_d']-df['earliest_cr_line']\n",
    "df['cr_line_days']=td.dt.days"
   ]
  },
  {
   "cell_type": "markdown",
   "metadata": {},
   "source": [
    "There are 53 records which don't have last credit pull date--> last_credit_pull_d = issue_d"
   ]
  },
  {
   "cell_type": "code",
   "execution_count": 28,
   "metadata": {
    "collapsed": true
   },
   "outputs": [],
   "source": [
    "df.loc[df['last_credit_pull_d'].isnull(),'last_credit_pull_d'] = df['issue_d']"
   ]
  },
  {
   "cell_type": "code",
   "execution_count": 29,
   "metadata": {
    "collapsed": true
   },
   "outputs": [],
   "source": [
    "td = df['last_credit_pull_d']-df['last_pymnt_d']\n",
    "df['pull_minus_last_pymnt']=td.dt.days"
   ]
  },
  {
   "cell_type": "markdown",
   "metadata": {},
   "source": [
    "There are 4 records which don't have annual income--> annual_inc = 0"
   ]
  },
  {
   "cell_type": "code",
   "execution_count": 30,
   "metadata": {
    "collapsed": true
   },
   "outputs": [],
   "source": [
    "df.loc[df['annual_inc'].isnull(),'annual_inc'] = 0"
   ]
  },
  {
   "cell_type": "markdown",
   "metadata": {},
   "source": [
    "no longer needed"
   ]
  },
  {
   "cell_type": "code",
   "execution_count": 31,
   "metadata": {
    "collapsed": true
   },
   "outputs": [],
   "source": [
    "df.drop(dateColumns, axis=1, inplace=True)"
   ]
  },
  {
   "cell_type": "markdown",
   "metadata": {},
   "source": [
    "fill NA/Nulls with mode"
   ]
  },
  {
   "cell_type": "code",
   "execution_count": 32,
   "metadata": {
    "collapsed": true
   },
   "outputs": [],
   "source": [
    "with_null_val = ['total_rev_hi_lim', 'tot_cur_bal', 'tot_coll_amt','revol_util','collections_12_mths_ex_med', 'delinq_2yrs','inq_last_6mths', 'open_acc', 'pub_rec', 'total_acc']"
   ]
  },
  {
   "cell_type": "code",
   "execution_count": 33,
   "metadata": {
    "collapsed": true
   },
   "outputs": [],
   "source": [
    "for col in with_null_val:\n",
    "    df[col].fillna(df[col].mode()[0],inplace=True)"
   ]
  },
  {
   "cell_type": "code",
   "execution_count": 34,
   "metadata": {},
   "outputs": [
    {
     "data": {
      "text/plain": [
       "(26621, 47)"
      ]
     },
     "execution_count": 34,
     "metadata": {},
     "output_type": "execute_result"
    }
   ],
   "source": [
    "df.shape"
   ]
  },
  {
   "cell_type": "code",
   "execution_count": 35,
   "metadata": {
    "collapsed": true
   },
   "outputs": [],
   "source": [
    "object_col = ['loan_status','loan_status_type','addr_state']\n",
    "df.drop(object_col, axis=1, inplace=True)"
   ]
  },
  {
   "cell_type": "markdown",
   "metadata": {},
   "source": [
    "# ==========================================="
   ]
  },
  {
   "cell_type": "code",
   "execution_count": 36,
   "metadata": {},
   "outputs": [
    {
     "data": {
      "text/html": [
       "<div>\n",
       "<style>\n",
       "    .dataframe thead tr:only-child th {\n",
       "        text-align: right;\n",
       "    }\n",
       "\n",
       "    .dataframe thead th {\n",
       "        text-align: left;\n",
       "    }\n",
       "\n",
       "    .dataframe tbody tr th {\n",
       "        vertical-align: top;\n",
       "    }\n",
       "</style>\n",
       "<table border=\"1\" class=\"dataframe\">\n",
       "  <thead>\n",
       "    <tr style=\"text-align: right;\">\n",
       "      <th></th>\n",
       "      <th>id</th>\n",
       "      <th>loan_amnt</th>\n",
       "      <th>funded_amnt</th>\n",
       "      <th>funded_amnt_inv</th>\n",
       "      <th>term</th>\n",
       "      <th>int_rate</th>\n",
       "      <th>installment</th>\n",
       "      <th>grade</th>\n",
       "      <th>sub_grade</th>\n",
       "      <th>emp_length</th>\n",
       "      <th>home_ownership</th>\n",
       "      <th>annual_inc</th>\n",
       "      <th>verification_status</th>\n",
       "      <th>purpose</th>\n",
       "      <th>dti</th>\n",
       "      <th>delinq_2yrs</th>\n",
       "      <th>inq_last_6mths</th>\n",
       "      <th>open_acc</th>\n",
       "      <th>pub_rec</th>\n",
       "      <th>revol_bal</th>\n",
       "      <th>revol_util</th>\n",
       "      <th>total_acc</th>\n",
       "      <th>initial_list_status</th>\n",
       "      <th>out_prncp</th>\n",
       "      <th>out_prncp_inv</th>\n",
       "      <th>total_pymnt</th>\n",
       "      <th>total_pymnt_inv</th>\n",
       "      <th>total_rec_prncp</th>\n",
       "      <th>total_rec_int</th>\n",
       "      <th>total_rec_late_fee</th>\n",
       "      <th>recoveries</th>\n",
       "      <th>collection_recovery_fee</th>\n",
       "      <th>last_pymnt_amnt</th>\n",
       "      <th>collections_12_mths_ex_med</th>\n",
       "      <th>tot_coll_amt</th>\n",
       "      <th>tot_cur_bal</th>\n",
       "      <th>total_rev_hi_lim</th>\n",
       "      <th>Default</th>\n",
       "      <th>issue_year</th>\n",
       "      <th>issue_month</th>\n",
       "      <th>state_pct_default</th>\n",
       "      <th>time_pct_paid</th>\n",
       "      <th>cr_line_days</th>\n",
       "      <th>pull_minus_last_pymnt</th>\n",
       "    </tr>\n",
       "  </thead>\n",
       "  <tbody>\n",
       "    <tr>\n",
       "      <th>0</th>\n",
       "      <td>22432240</td>\n",
       "      <td>7025.0</td>\n",
       "      <td>7025.0</td>\n",
       "      <td>7025.0</td>\n",
       "      <td>36</td>\n",
       "      <td>16.99</td>\n",
       "      <td>250.43</td>\n",
       "      <td>4</td>\n",
       "      <td>43</td>\n",
       "      <td>7</td>\n",
       "      <td>1</td>\n",
       "      <td>33000.0</td>\n",
       "      <td>1</td>\n",
       "      <td>3</td>\n",
       "      <td>26.12</td>\n",
       "      <td>0.0</td>\n",
       "      <td>3.0</td>\n",
       "      <td>20.0</td>\n",
       "      <td>0.0</td>\n",
       "      <td>9949.0</td>\n",
       "      <td>58.9</td>\n",
       "      <td>30.0</td>\n",
       "      <td>0</td>\n",
       "      <td>4146.22</td>\n",
       "      <td>4146.22</td>\n",
       "      <td>4257.310000</td>\n",
       "      <td>4257.31</td>\n",
       "      <td>2878.78</td>\n",
       "      <td>1378.53</td>\n",
       "      <td>0.0</td>\n",
       "      <td>0.0</td>\n",
       "      <td>0.0</td>\n",
       "      <td>250.43</td>\n",
       "      <td>0.0</td>\n",
       "      <td>0.0</td>\n",
       "      <td>21182.0</td>\n",
       "      <td>16900.0</td>\n",
       "      <td>0</td>\n",
       "      <td>2014</td>\n",
       "      <td>7</td>\n",
       "      <td>0.085921</td>\n",
       "      <td>0.472736</td>\n",
       "      <td>6117</td>\n",
       "      <td>31</td>\n",
       "    </tr>\n",
       "    <tr>\n",
       "      <th>1</th>\n",
       "      <td>21461200</td>\n",
       "      <td>27000.0</td>\n",
       "      <td>27000.0</td>\n",
       "      <td>27000.0</td>\n",
       "      <td>60</td>\n",
       "      <td>14.99</td>\n",
       "      <td>642.19</td>\n",
       "      <td>3</td>\n",
       "      <td>35</td>\n",
       "      <td>8</td>\n",
       "      <td>1</td>\n",
       "      <td>65000.0</td>\n",
       "      <td>1</td>\n",
       "      <td>0</td>\n",
       "      <td>25.84</td>\n",
       "      <td>0.0</td>\n",
       "      <td>2.0</td>\n",
       "      <td>14.0</td>\n",
       "      <td>0.0</td>\n",
       "      <td>34865.0</td>\n",
       "      <td>49.5</td>\n",
       "      <td>23.0</td>\n",
       "      <td>1</td>\n",
       "      <td>21264.62</td>\n",
       "      <td>21264.62</td>\n",
       "      <td>10917.230000</td>\n",
       "      <td>10917.23</td>\n",
       "      <td>5735.38</td>\n",
       "      <td>5181.85</td>\n",
       "      <td>0.0</td>\n",
       "      <td>0.0</td>\n",
       "      <td>0.0</td>\n",
       "      <td>642.19</td>\n",
       "      <td>0.0</td>\n",
       "      <td>0.0</td>\n",
       "      <td>53409.0</td>\n",
       "      <td>70500.0</td>\n",
       "      <td>0</td>\n",
       "      <td>2014</td>\n",
       "      <td>7</td>\n",
       "      <td>0.065719</td>\n",
       "      <td>0.283641</td>\n",
       "      <td>8004</td>\n",
       "      <td>31</td>\n",
       "    </tr>\n",
       "    <tr>\n",
       "      <th>2</th>\n",
       "      <td>7685410</td>\n",
       "      <td>6550.0</td>\n",
       "      <td>6550.0</td>\n",
       "      <td>6550.0</td>\n",
       "      <td>36</td>\n",
       "      <td>19.52</td>\n",
       "      <td>241.83</td>\n",
       "      <td>4</td>\n",
       "      <td>44</td>\n",
       "      <td>10</td>\n",
       "      <td>2</td>\n",
       "      <td>60389.0</td>\n",
       "      <td>2</td>\n",
       "      <td>3</td>\n",
       "      <td>3.95</td>\n",
       "      <td>0.0</td>\n",
       "      <td>4.0</td>\n",
       "      <td>4.0</td>\n",
       "      <td>0.0</td>\n",
       "      <td>1655.0</td>\n",
       "      <td>31.8</td>\n",
       "      <td>24.0</td>\n",
       "      <td>1</td>\n",
       "      <td>0.00</td>\n",
       "      <td>0.00</td>\n",
       "      <td>6962.840000</td>\n",
       "      <td>6962.84</td>\n",
       "      <td>6550.00</td>\n",
       "      <td>412.84</td>\n",
       "      <td>0.0</td>\n",
       "      <td>0.0</td>\n",
       "      <td>0.0</td>\n",
       "      <td>6237.35</td>\n",
       "      <td>0.0</td>\n",
       "      <td>0.0</td>\n",
       "      <td>161915.0</td>\n",
       "      <td>5200.0</td>\n",
       "      <td>0</td>\n",
       "      <td>2013</td>\n",
       "      <td>10</td>\n",
       "      <td>0.049180</td>\n",
       "      <td>0.112252</td>\n",
       "      <td>3775</td>\n",
       "      <td>699</td>\n",
       "    </tr>\n",
       "    <tr>\n",
       "      <th>3</th>\n",
       "      <td>14859139</td>\n",
       "      <td>10000.0</td>\n",
       "      <td>10000.0</td>\n",
       "      <td>10000.0</td>\n",
       "      <td>36</td>\n",
       "      <td>8.90</td>\n",
       "      <td>317.54</td>\n",
       "      <td>1</td>\n",
       "      <td>15</td>\n",
       "      <td>1</td>\n",
       "      <td>1</td>\n",
       "      <td>50000.0</td>\n",
       "      <td>0</td>\n",
       "      <td>3</td>\n",
       "      <td>12.41</td>\n",
       "      <td>0.0</td>\n",
       "      <td>0.0</td>\n",
       "      <td>9.0</td>\n",
       "      <td>1.0</td>\n",
       "      <td>3912.0</td>\n",
       "      <td>23.0</td>\n",
       "      <td>20.0</td>\n",
       "      <td>0</td>\n",
       "      <td>4773.83</td>\n",
       "      <td>4773.83</td>\n",
       "      <td>6350.800000</td>\n",
       "      <td>6350.80</td>\n",
       "      <td>5226.17</td>\n",
       "      <td>1124.63</td>\n",
       "      <td>0.0</td>\n",
       "      <td>0.0</td>\n",
       "      <td>0.0</td>\n",
       "      <td>317.54</td>\n",
       "      <td>0.0</td>\n",
       "      <td>0.0</td>\n",
       "      <td>6113.0</td>\n",
       "      <td>17000.0</td>\n",
       "      <td>0</td>\n",
       "      <td>2014</td>\n",
       "      <td>5</td>\n",
       "      <td>0.053097</td>\n",
       "      <td>0.556696</td>\n",
       "      <td>8278</td>\n",
       "      <td>0</td>\n",
       "    </tr>\n",
       "    <tr>\n",
       "      <th>4</th>\n",
       "      <td>1904812</td>\n",
       "      <td>5000.0</td>\n",
       "      <td>5000.0</td>\n",
       "      <td>5000.0</td>\n",
       "      <td>36</td>\n",
       "      <td>6.03</td>\n",
       "      <td>152.18</td>\n",
       "      <td>1</td>\n",
       "      <td>11</td>\n",
       "      <td>8</td>\n",
       "      <td>2</td>\n",
       "      <td>65000.0</td>\n",
       "      <td>1</td>\n",
       "      <td>0</td>\n",
       "      <td>6.11</td>\n",
       "      <td>0.0</td>\n",
       "      <td>0.0</td>\n",
       "      <td>13.0</td>\n",
       "      <td>0.0</td>\n",
       "      <td>4956.0</td>\n",
       "      <td>8.4</td>\n",
       "      <td>34.0</td>\n",
       "      <td>0</td>\n",
       "      <td>0.00</td>\n",
       "      <td>0.00</td>\n",
       "      <td>5377.173815</td>\n",
       "      <td>5377.17</td>\n",
       "      <td>5000.00</td>\n",
       "      <td>377.17</td>\n",
       "      <td>0.0</td>\n",
       "      <td>0.0</td>\n",
       "      <td>0.0</td>\n",
       "      <td>2487.85</td>\n",
       "      <td>0.0</td>\n",
       "      <td>0.0</td>\n",
       "      <td>257401.0</td>\n",
       "      <td>58700.0</td>\n",
       "      <td>0</td>\n",
       "      <td>2012</td>\n",
       "      <td>11</td>\n",
       "      <td>0.064033</td>\n",
       "      <td>0.553958</td>\n",
       "      <td>9893</td>\n",
       "      <td>0</td>\n",
       "    </tr>\n",
       "  </tbody>\n",
       "</table>\n",
       "</div>"
      ],
      "text/plain": [
       "         id  loan_amnt  funded_amnt          ...            time_pct_paid  cr_line_days  pull_minus_last_pymnt\n",
       "0  22432240     7025.0       7025.0          ...                 0.472736          6117                     31\n",
       "1  21461200    27000.0      27000.0          ...                 0.283641          8004                     31\n",
       "2   7685410     6550.0       6550.0          ...                 0.112252          3775                    699\n",
       "3  14859139    10000.0      10000.0          ...                 0.556696          8278                      0\n",
       "4   1904812     5000.0       5000.0          ...                 0.553958          9893                      0\n",
       "\n",
       "[5 rows x 44 columns]"
      ]
     },
     "execution_count": 36,
     "metadata": {},
     "output_type": "execute_result"
    }
   ],
   "source": [
    "df.head()"
   ]
  },
  {
   "cell_type": "code",
   "execution_count": 37,
   "metadata": {
    "collapsed": true
   },
   "outputs": [],
   "source": [
    "# file paths\n",
    "processed_data_path = os.path.join(os.path.pardir,'data','processed')\n",
    "loan_preprocessed = os.path.join(processed_data_path, 'loan_preprocessed.csv')"
   ]
  },
  {
   "cell_type": "code",
   "execution_count": 38,
   "metadata": {
    "collapsed": true
   },
   "outputs": [],
   "source": [
    "df.to_csv(loan_preprocessed,index=False)"
   ]
  },
  {
   "cell_type": "code",
   "execution_count": 39,
   "metadata": {
    "collapsed": true
   },
   "outputs": [],
   "source": [
    "df = pd.read_csv(loan_preprocessed, low_memory=False)"
   ]
  },
  {
   "cell_type": "code",
   "execution_count": 40,
   "metadata": {
    "collapsed": true,
    "scrolled": true
   },
   "outputs": [],
   "source": [
    "y = df['Default']\n",
    "X = df.drop(['Default'], axis=1)"
   ]
  },
  {
   "cell_type": "code",
   "execution_count": 41,
   "metadata": {
    "collapsed": true
   },
   "outputs": [],
   "source": [
    "# file pahts\n",
    "X_path = os.path.join(processed_data_path, 'X.csv')\n",
    "y_path = os.path.join(processed_data_path, 'y.csv')\n",
    "X_train_path = os.path.join(processed_data_path, 'X_train.csv')\n",
    "y_train_path = os.path.join(processed_data_path, 'y_train.csv')\n",
    "X_test_path = os.path.join(processed_data_path, 'X_test.csv')\n",
    "y_test_path = os.path.join(processed_data_path, 'y_test.csv')"
   ]
  },
  {
   "cell_type": "code",
   "execution_count": 42,
   "metadata": {
    "collapsed": true
   },
   "outputs": [],
   "source": [
    "from sklearn.model_selection import train_test_split\n",
    "X_train, X_test, y_train, y_test = train_test_split(X, y, test_size=0.3, random_state=42)"
   ]
  },
  {
   "cell_type": "code",
   "execution_count": 43,
   "metadata": {
    "collapsed": true
   },
   "outputs": [],
   "source": [
    "X.to_csv(X_path, index=False)\n",
    "y.to_csv(y_path, index=False)\n",
    "X_train.to_csv(X_train_path, index=False)\n",
    "y_train.to_csv(y_train_path, index=False)\n",
    "X_test.to_csv(X_test_path, index=False)\n",
    "y_test.to_csv(y_test_path, index=False)"
   ]
  },
  {
   "cell_type": "code",
   "execution_count": 44,
   "metadata": {},
   "outputs": [
    {
     "name": "stdout",
     "output_type": "stream",
     "text": [
      "0    24762\n",
      "1     1859\n",
      "Name: Default, dtype: int64 0.0698320874497577\n"
     ]
    }
   ],
   "source": [
    "print(y.value_counts(), y.mean())"
   ]
  },
  {
   "cell_type": "markdown",
   "metadata": {},
   "source": [
    "# ==========================================="
   ]
  }
 ],
 "metadata": {
  "kernelspec": {
   "display_name": "Python 3",
   "language": "python",
   "name": "python3"
  },
  "language_info": {
   "codemirror_mode": {
    "name": "ipython",
    "version": 3
   },
   "file_extension": ".py",
   "mimetype": "text/x-python",
   "name": "python",
   "nbconvert_exporter": "python",
   "pygments_lexer": "ipython3",
   "version": "3.6.3"
  }
 },
 "nbformat": 4,
 "nbformat_minor": 2
}
